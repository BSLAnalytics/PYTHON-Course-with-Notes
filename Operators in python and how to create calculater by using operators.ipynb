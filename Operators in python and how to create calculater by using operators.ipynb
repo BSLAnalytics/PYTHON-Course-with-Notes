{
 "cells": [
  {
   "cell_type": "code",
   "execution_count": null,
   "metadata": {},
   "outputs": [],
   "source": [
    "#OPERATORS IN PYTHON like Arithematic Operators,Logical Operators,Comparsion Operators\n",
    "#IF,ELSE,ELIF conditional operators and input method "
   ]
  },
  {
   "cell_type": "code",
   "execution_count": null,
   "metadata": {},
   "outputs": [],
   "source": [
    "#ARITHEMATIC OPERATORS:\n",
    "\n",
    "#+:IT USED FOR ADDING TWO NUMBERS,\n",
    "#-:IT USED FOR SUBSTRATING TWO NUMBERS\n",
    "#*:IT IS USED FOR MULTLPY TWO NUMBER\n",
    "#/:IT IS USED FOR DIVISION\n",
    "#//:IT RETURNS THE LARGEST INTEGER THAT IS LESS THAN OR EQUEL TO THE RESULT OF THE DIVISON\n",
    "#%:IT IS USED FOR FINDING THE REMINDER OF THE TWO NUMBER\n",
    "#**:IT IS POWER OF THE FIRST NUMBER"
   ]
  },
  {
   "cell_type": "code",
   "execution_count": null,
   "metadata": {},
   "outputs": [],
   "source": [
    "#COMPARSION OPERATORS: COMARASION OPERATORS RETURS ONLY EITHER TRUE OR FALSE\n",
    "\n",
    "#==(EQUEL):IT IS USED FOR COMARING THE ONE VARIABLE TO ANOTHER VARIABLE FOR CHECKING THAT TWO VARIBLES EQUEL OR NOT\n",
    "#!=(NOT EQUEL):IT IS USED FOR COMAPRING THE TWO VARIBALES AND IT RETURS TRUE IF TWO VARIBLES ARE NOT SAME\n",
    "#>(LESS THAN):IT RETURNS THE TRUE IF A IS SMALLER THAN B.ELASE IT RETURS FALSE\n",
    "#>(GRATER THAN):IT RETUTS TRUE IF A IS GRATER THAT B ELSE IT RETUTS FALSE\n",
    "#<=(LESS THAN OR EUEAL):IT WORKS SAME AS LESSTHAN OPERATOR BUT IT RETUTS TRUE WHEN A IS EQUEL TO B\n",
    "#>=(GRATER THAN EQUEL):IT WORKS SAME AS GRATER THAT OPERATOR BUT IT RETURS TRUE WHEN A IS EQUEL TO B\n"
   ]
  },
  {
   "cell_type": "code",
   "execution_count": null,
   "metadata": {},
   "outputs": [],
   "source": [
    "#LOGICAL OPERATORS:\n",
    "\n",
    "#AND:IF A ADN B BOTH ARE TRUE .AT THAT TIME IT RETURS TRUE.\n",
    "#OR:IF EITHER A NOR B IS TRUE IT RETURNS TRUE\n",
    "#NOT:IT IS REVERSE OF THE BOOLEN VARBILE.IF THE RESULT IS TRUE THEN IT RETURNS FALSE"
   ]
  },
  {
   "cell_type": "code",
   "execution_count": null,
   "metadata": {},
   "outputs": [],
   "source": [
    "#INPUT :IT IS USED TO ENTER THE DATA/ENTER THE VALUES IN PYTHON\n",
    "#a and b\n",
    "#a=input(\"enetr a values\"),b=input('enetr b values')"
   ]
  },
  {
   "cell_type": "code",
   "execution_count": null,
   "metadata": {},
   "outputs": [],
   "source": [
    "#IF,ELSE,ELIF CONDITIONAL STAMENT:\n",
    "#IF<CONDION>:\n",
    "#print(\"<message\")#if the conditon is true print this message\n",
    "#else:\n",
    "#print(\"message\")#if the condition is false print this meassage\n",
    "\n",
    "#ELIF:IT IS USED FOR WRITE MULTPLE CONDITON IN ONE IF STAMES\n",
    "#IF(<CONDIOTN):\n",
    "#PRINT('MESSAGE)\n",
    "#ELSIF(CONDITON):\n",
    "#PRINT('MESSAGE')\n",
    "#ELSE:\n",
    "#PRINT(MAEESGAE)\n",
    "#= is used for asing a one values to that variable\n",
    "#== is used for comaparing one values with another values"
   ]
  },
  {
   "cell_type": "code",
   "execution_count": 7,
   "metadata": {},
   "outputs": [
    {
     "name": "stdout",
     "output_type": "stream",
     "text": [
      "9**5=59049\n"
     ]
    }
   ],
   "source": [
    "#CREATE A CALCULATER\n",
    "a=int(input('enter A Vlaues:'))\n",
    "b=int(input('Enter B values:'))\n",
    "operator=input('Select operator(+,-,*,%,/,//,**)')\n",
    "if operator=='+':\n",
    "    result=a+b\n",
    "    print(f'{a}+{b}={result}')\n",
    "elif operator=='-':\n",
    "    result=a-b\n",
    "    print(f'{a}-{b}={result}')\n",
    "elif operator=='*':\n",
    "    result=a*b\n",
    "    print(f'{a}*{b}={result}')\n",
    "elif operator=='/':\n",
    "    result=a/b\n",
    "    print(f'{a}*{b}={result}')\n",
    "elif operator=='%':\n",
    "    result=a%b\n",
    "    print(f'{a}%{b}={result}')\n",
    "elif operator=='**':\n",
    "    result=a**b\n",
    "    print(f'{a}**{b}={result}')\n",
    "else:\n",
    "    print(\"Error:Opertion failed\")"
   ]
  }
 ],
 "metadata": {
  "kernelspec": {
   "display_name": "Python 3",
   "language": "python",
   "name": "python3"
  },
  "language_info": {
   "codemirror_mode": {
    "name": "ipython",
    "version": 3
   },
   "file_extension": ".py",
   "mimetype": "text/x-python",
   "name": "python",
   "nbconvert_exporter": "python",
   "pygments_lexer": "ipython3",
   "version": "3.13.2"
  }
 },
 "nbformat": 4,
 "nbformat_minor": 2
}
